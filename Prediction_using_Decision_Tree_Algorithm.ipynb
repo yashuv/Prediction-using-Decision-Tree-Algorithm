{
 "cells": [
  {
   "cell_type": "markdown",
   "id": "112220fb-0581-4d87-81c8-635737b58be6",
   "metadata": {},
   "source": [
    "# Task 03: Prediction using Decision Tree Algorithm\n",
    "\n",
    "## Submitted By: Yashuv Baskota\n",
    "### Language- Python\n",
    "### Level: Intermediate\n",
    "### Dataset: https://bit.ly/3kXTdox\n",
    "\n",
    "#### Description:\n",
    "The task is to create the `Decision Tree classifier` and visualize it graphically. *Decision tree classifier* is a type of supervised learning algorithm that can be used for classification tasks. It works by constructing a tree-like model of decisions based on the features of the training data.\n",
    "The purpose is that if we feed any new data to this classifier, it would be able to\n",
    "predict the right class accordingly. "
   ]
  },
  {
   "cell_type": "markdown",
   "id": "336e412f-f598-49d8-93c5-77faf0b2ed30",
   "metadata": {},
   "source": [
    "## 1. Import Libraries"
   ]
  },
  {
   "cell_type": "code",
   "execution_count": null,
   "id": "bb4804d7-958d-4061-aa11-6090292c7f65",
   "metadata": {},
   "outputs": [],
   "source": [
    "import numpy as np\n",
    "import pandas as pd\n",
    "import matplotlib.pyplot as plt\n",
    "import seaborn as sns\n",
    "\n",
    "from sklearn.tree import plot_tree\n",
    "from sklearn.tree import DecisionTreeClassifier\n",
    "\n",
    "from sklearn.model_selection import train_test_split\n",
    "\n",
    "from sklearn.metrics import confusion_matrix, accuracy_score, classification_report\n",
    "from sklearn.model_selection import learning_curve\n",
    "\n",
    "import warnings\n",
    "warnings.filterwarnings(\"ignore\")\n",
    "\n",
    "%matplotlib inline"
   ]
  },
  {
   "cell_type": "markdown",
   "id": "05163fbb-b89c-4ed9-991f-34dfac09b7c8",
   "metadata": {},
   "source": [
    "## 2. Load Dataset"
   ]
  },
  {
   "cell_type": "code",
   "execution_count": null,
   "id": "2f582422-2821-4a35-a427-aa7c913a68fd",
   "metadata": {},
   "outputs": [],
   "source": [
    "# Load the data\n",
    "df = pd.read_csv(\"data/Iris.csv\")"
   ]
  },
  {
   "cell_type": "markdown",
   "id": "9f001745-29bd-4407-a350-12a089a159d1",
   "metadata": {},
   "source": [
    "## 3. Exploratory Data Analysis"
   ]
  },
  {
   "cell_type": "code",
   "execution_count": null,
   "id": "f98ac6eb-1c7b-49f6-b2e9-964f20bc52e8",
   "metadata": {},
   "outputs": [],
   "source": [
    "df.shape"
   ]
  },
  {
   "cell_type": "code",
   "execution_count": null,
   "id": "8fd76e69-2e07-48a7-9755-275d82e78aec",
   "metadata": {},
   "outputs": [],
   "source": [
    "df.head()"
   ]
  },
  {
   "cell_type": "markdown",
   "id": "bb5d8e30-3db4-4c78-b155-268ce7ba9db0",
   "metadata": {},
   "source": [
    "### Basic information about the data"
   ]
  },
  {
   "cell_type": "code",
   "execution_count": null,
   "id": "fa82b239-fa01-4f30-8a76-f8a254c5758c",
   "metadata": {},
   "outputs": [],
   "source": [
    "df.info()"
   ]
  },
  {
   "cell_type": "markdown",
   "id": "00452523-8d20-4dd9-a8bc-78e4c29d219e",
   "metadata": {},
   "source": [
    "### Summary Statistics"
   ]
  },
  {
   "cell_type": "code",
   "execution_count": null,
   "id": "a8b23055-2c41-48dc-b88f-5faa1bf5ae50",
   "metadata": {},
   "outputs": [],
   "source": [
    "df.describe()"
   ]
  },
  {
   "cell_type": "markdown",
   "id": "f9c59115-deb2-4a72-98ae-bf29ea456776",
   "metadata": {},
   "source": [
    "### Unique Species"
   ]
  },
  {
   "cell_type": "code",
   "execution_count": null,
   "id": "2fdd6bb7-ae18-462c-81ed-cf15f75b237c",
   "metadata": {},
   "outputs": [],
   "source": [
    "print(df['Species'].nunique())\n",
    "print(df['Species'].unique())"
   ]
  },
  {
   "cell_type": "markdown",
   "id": "a0e882e9-a2f2-415a-a1fe-bb55a8ca5442",
   "metadata": {},
   "source": [
    "### Frequency distribution of each Species"
   ]
  },
  {
   "cell_type": "code",
   "execution_count": null,
   "id": "a926ee69-500f-4969-a018-3936a5fff23c",
   "metadata": {},
   "outputs": [],
   "source": [
    "df['Species'].value_counts()"
   ]
  },
  {
   "cell_type": "markdown",
   "id": "a63179f2-5d8e-43f8-a3de-070ac1a130a0",
   "metadata": {},
   "source": [
    "### Check for missing values"
   ]
  },
  {
   "cell_type": "code",
   "execution_count": null,
   "id": "97adb839-96ef-40b8-bf1b-4a07afb52e74",
   "metadata": {},
   "outputs": [],
   "source": [
    "df.isnull().sum()"
   ]
  },
  {
   "cell_type": "markdown",
   "id": "d9044f44-f725-4094-bafd-7058c93e0b91",
   "metadata": {},
   "source": [
    "### Check for duplicate rows"
   ]
  },
  {
   "cell_type": "code",
   "execution_count": null,
   "id": "71ab44d2-f4f0-4baa-a2b8-a3ddff328fa6",
   "metadata": {},
   "outputs": [],
   "source": [
    "df.duplicated().sum()"
   ]
  },
  {
   "cell_type": "markdown",
   "id": "8cd8f196-93a1-4c28-b492-0353150a7253",
   "metadata": {},
   "source": [
    "### Data Visualizaion: \n",
    "### Histogram"
   ]
  },
  {
   "cell_type": "code",
   "execution_count": null,
   "id": "305647c6-c088-4ad4-924a-cf515349355f",
   "metadata": {},
   "outputs": [],
   "source": [
    "df = df.drop(df[['Id']], axis=1)\n",
    "\n",
    "df.hist(bins=50, figsize=(20,15))\n",
    "plt.show()"
   ]
  },
  {
   "cell_type": "code",
   "execution_count": null,
   "id": "372aab7e-6f24-45f1-89cc-fcb1c01a6ede",
   "metadata": {},
   "outputs": [],
   "source": [
    "sns.histplot(x='Species',data = df)"
   ]
  },
  {
   "cell_type": "markdown",
   "id": "06d0f3c8-febb-4dfc-9513-cd6818a50625",
   "metadata": {},
   "source": [
    "### Box Plot to Check for outliers"
   ]
  },
  {
   "cell_type": "code",
   "execution_count": null,
   "id": "93768a05-a50a-4cdd-a394-49acaede383b",
   "metadata": {},
   "outputs": [],
   "source": [
    "plt.figure(figsize=(15,15))\n",
    "plt.subplot(2,2,1)\n",
    "sns.boxplot(x=\"Species\", y=\"SepalLengthCm\", data=df)\n",
    "plt.subplot(2,2,2)\n",
    "sns.boxplot(x=\"Species\", y=\"SepalWidthCm\", data=df)\n",
    "plt.subplot(2,2,3)\n",
    "sns.boxplot(x=\"Species\", y=\"PetalLengthCm\", data=df)\n",
    "plt.subplot(2,2,4)\n",
    "sns.boxplot(x=\"Species\", y=\"PetalWidthCm\", data=df)"
   ]
  },
  {
   "cell_type": "markdown",
   "id": "9806e011-5028-4b29-b80a-0b8afb2c87fb",
   "metadata": {},
   "source": [
    "### A pair plot of all the numeric columns, colored by species"
   ]
  },
  {
   "cell_type": "code",
   "execution_count": null,
   "id": "c82b27bd-3898-4848-9802-cc0387b88ecb",
   "metadata": {},
   "outputs": [],
   "source": [
    "sns.pairplot(df, hue=\"Species\")"
   ]
  },
  {
   "cell_type": "markdown",
   "id": "5e87f29a-2a71-42ca-abff-afd29f41c87f",
   "metadata": {},
   "source": [
    "### Heatmap of the correlation between all the columns"
   ]
  },
  {
   "cell_type": "code",
   "execution_count": null,
   "id": "8c66984a-c26f-416e-bebb-aa77a9cdb85f",
   "metadata": {},
   "outputs": [],
   "source": [
    "sns.heatmap(df.corr(), annot=True)"
   ]
  },
  {
   "cell_type": "code",
   "execution_count": null,
   "id": "9383e453-a1a3-4476-b305-b664867dc0f6",
   "metadata": {},
   "outputs": [],
   "source": [
    "# check the outliers using IQR\n",
    "Q1 = np.percentile(df['SepalWidthCm'], 25,\n",
    "                interpolation = 'midpoint')\n",
    "  \n",
    "Q3 = np.percentile(df['SepalWidthCm'], 75,\n",
    "                interpolation = 'midpoint')\n",
    "IQR = Q3 - Q1\n",
    "  \n",
    "print(\"Old Shape: \", df.shape)\n",
    "  \n",
    "# Upper bound\n",
    "upper = np.where(df['SepalWidthCm'] >= (Q3+1.5*IQR))\n",
    "  \n",
    "# Lower bound\n",
    "lower = np.where(df['SepalWidthCm'] <= (Q1-1.5*IQR))\n",
    "  \n",
    "# Removing the Outliers\n",
    "df.drop(upper[0], inplace = True)\n",
    "df.drop(lower[0], inplace = True)\n",
    "  \n",
    "print(\"New Shape: \", df.shape)\n",
    "  \n",
    "sns.boxplot(x='SepalWidthCm', data=df)"
   ]
  },
  {
   "cell_type": "markdown",
   "id": "69372f92-7322-47e8-8fad-4fe72b8b35e3",
   "metadata": {},
   "source": [
    "## 4. Model Building"
   ]
  },
  {
   "cell_type": "code",
   "execution_count": null,
   "id": "99fb55ff-8261-4b9f-a6a7-c0f9c4166b81",
   "metadata": {},
   "outputs": [],
   "source": [
    "# input variables\n",
    "X = df[['SepalLengthCm', 'SepalWidthCm', 'PetalLengthCm', 'PetalWidthCm']]\n",
    "\n",
    "# target variable\n",
    "y = df['Species']"
   ]
  },
  {
   "cell_type": "code",
   "execution_count": null,
   "id": "4d4f751c-9833-43d2-97fa-db4f36006054",
   "metadata": {},
   "outputs": [],
   "source": [
    "# Split the data into a training set and a test set\n",
    "X_train, X_test, y_train, y_test = train_test_split(X, y, test_size=0.2, random_state=42)"
   ]
  },
  {
   "cell_type": "code",
   "execution_count": null,
   "id": "5625a93f-98b0-4633-811a-ef1a9116fdb5",
   "metadata": {},
   "outputs": [],
   "source": [
    "# Create the decision tree model\n",
    "classifier = DecisionTreeClassifier(criterion='entropy', random_state=0)  \n",
    "\n",
    "# Train the model on the training data\n",
    "classifier.fit(X_train, y_train)"
   ]
  },
  {
   "cell_type": "markdown",
   "id": "8749e45f-e1ad-4838-b9fc-c4bdef8ee0e3",
   "metadata": {},
   "source": [
    "### Bar plot of the feature importances"
   ]
  },
  {
   "cell_type": "code",
   "execution_count": null,
   "id": "c2e32679-b9f5-40b9-bdda-79ba74ea428f",
   "metadata": {},
   "outputs": [],
   "source": [
    "# Bar plot of feature importances\n",
    "importances = classifier.feature_importances_\n",
    "sns.barplot(x=importances, y=X.columns)"
   ]
  },
  {
   "cell_type": "markdown",
   "id": "b9b20685-7faf-48a2-8964-02d42fd3d835",
   "metadata": {},
   "source": [
    "### Learning curve: showing the relationship between the size of the training set and the model's performance"
   ]
  },
  {
   "cell_type": "code",
   "execution_count": null,
   "id": "96580d07-004e-429f-80aa-7812903148a4",
   "metadata": {},
   "outputs": [],
   "source": [
    "# Plot the learning curve\n",
    "train_sizes, train_scores, test_scores = learning_curve(classifier, X, y, cv=5)\n",
    "sns.lineplot(x=train_sizes, y=train_scores.mean(axis=1), label=\"Training score\")\n",
    "sns.lineplot(x=train_sizes, y=test_scores.mean(axis=1), label=\"Test score\")"
   ]
  },
  {
   "cell_type": "markdown",
   "id": "543ea39d-2588-4350-9529-e47ca15d1f7c",
   "metadata": {},
   "source": [
    "### Visualize the decision tree"
   ]
  },
  {
   "cell_type": "code",
   "execution_count": null,
   "id": "142c49b5-6ced-4364-b628-edf990e02153",
   "metadata": {},
   "outputs": [],
   "source": [
    "fig = plt.figure(figsize=(25,20))\n",
    "fn=['sepal length (cm)','sepal width (cm)','petal length (cm)','petal width (cm)']\n",
    "cn=['setosa', 'versicolor', 'virginica']\n",
    "plot_tree(classifier,\n",
    "               feature_names = fn, \n",
    "               class_names=cn,\n",
    "               filled = True);\n",
    "fig.savefig('Tree.png')"
   ]
  },
  {
   "cell_type": "code",
   "execution_count": null,
   "id": "b19cdafa-a7cc-4d21-89d4-6ff9adee68a1",
   "metadata": {},
   "outputs": [],
   "source": [
    "# Use the model to make predictions on the test data\n",
    "y_pred = classifier.predict(X_test)\n",
    "y_pred"
   ]
  },
  {
   "cell_type": "markdown",
   "id": "2cc5c317-1ff9-4f96-a2e4-083a8960d725",
   "metadata": {},
   "source": [
    "## 5. Performance Evaluation "
   ]
  },
  {
   "cell_type": "markdown",
   "id": "70816912-14b5-41ef-93d0-9df3ca20d52b",
   "metadata": {},
   "source": [
    "### Confusion matrix showing the performance of the model on the test set"
   ]
  },
  {
   "cell_type": "code",
   "execution_count": null,
   "id": "091c9619-80a4-4420-9a19-c2fa42f6c6fd",
   "metadata": {},
   "outputs": [],
   "source": [
    "# Plot the confusion matrix\n",
    "cm = confusion_matrix(y_test, y_pred)\n",
    "sns.heatmap(cm, annot=True, fmt=\"d\")\n",
    "\n",
    "# Add labels to the plot\n",
    "plt.xlabel('Predicted labels')\n",
    "plt.ylabel('True labels')\n",
    "plt.title('Confusion Matrix')\n",
    "\n",
    "# Show the plot\n",
    "plt.show()"
   ]
  },
  {
   "cell_type": "markdown",
   "id": "e210c1db-8b02-4590-97d3-115e9fab37fb",
   "metadata": {},
   "source": [
    "### Classification Report of Performance"
   ]
  },
  {
   "cell_type": "code",
   "execution_count": null,
   "id": "1e52bcda-8fc5-44a4-86a1-283d150c9eac",
   "metadata": {},
   "outputs": [],
   "source": [
    "print(classification_report(y_test, y_pred))"
   ]
  },
  {
   "cell_type": "code",
   "execution_count": null,
   "id": "32541d09-d010-4101-a5cb-aca61136a3db",
   "metadata": {},
   "outputs": [],
   "source": [
    "# Calculate the accuracy of the model\n",
    "\n",
    "# accuracy = classifier.score(X_test, y_test)\n",
    "# print(\"Accuracy:\", accuracy)\n",
    "accuracy_score(y_test, y_pred)"
   ]
  },
  {
   "cell_type": "markdown",
   "id": "dc0c885d-f5e5-4e06-b0b7-221eec5f63a1",
   "metadata": {},
   "source": [
    "## 6. Make Prediction (Takes Input dimensions, predicts Species)"
   ]
  },
  {
   "cell_type": "code",
   "execution_count": null,
   "id": "fc215983-d7a7-4365-a479-e97aff87360a",
   "metadata": {},
   "outputs": [],
   "source": [
    "# prediction function\n",
    "def make_prediction(new_data_point):\n",
    "    \n",
    "    # predict the cluster for the new data point\n",
    "    prediction = classifier.predict([new_data_point])[0]\n",
    "    print(f\"Predicted Species -> {prediction}\")"
   ]
  },
  {
   "cell_type": "code",
   "execution_count": null,
   "id": "43c6973b-9ed2-4751-9c31-e7da5a456652",
   "metadata": {},
   "outputs": [],
   "source": [
    "# new data points\n",
    "new_data_point1 = [5.6, 3.9, 1.8, 0.5]\n",
    "new_data_point2 = [6.5, 3.5, 4.8, 1.0]\n",
    "new_data_point3 = [7.1, 3.1, 5.8, 1.8]\n",
    "\n",
    "# predict species\n",
    "make_prediction(new_data_point1)\n",
    "make_prediction(new_data_point2)\n",
    "make_prediction(new_data_point3)"
   ]
  },
  {
   "cell_type": "markdown",
   "id": "332b3cef-f0fb-4633-8112-0677df213285",
   "metadata": {},
   "source": [
    "<br>\n",
    "\n",
    "__Thank You!__"
   ]
  }
 ],
 "metadata": {
  "kernelspec": {
   "display_name": "Python 3 (ipykernel)",
   "language": "python",
   "name": "python3"
  },
  "language_info": {
   "codemirror_mode": {
    "name": "ipython",
    "version": 3
   },
   "file_extension": ".py",
   "mimetype": "text/x-python",
   "name": "python",
   "nbconvert_exporter": "python",
   "pygments_lexer": "ipython3",
   "version": "3.11.0"
  }
 },
 "nbformat": 4,
 "nbformat_minor": 5
}
